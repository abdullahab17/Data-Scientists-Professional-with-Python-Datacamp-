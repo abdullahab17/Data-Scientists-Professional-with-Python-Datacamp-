{
  "nbformat": 4,
  "nbformat_minor": 0,
  "metadata": {
    "colab": {
      "provenance": []
    },
    "kernelspec": {
      "name": "python3",
      "display_name": "Python 3"
    },
    "language_info": {
      "name": "python"
    }
  },
  "cells": [
    {
      "cell_type": "code",
      "execution_count": null,
      "metadata": {
        "id": "6cnMCSjSq69m"
      },
      "outputs": [],
      "source": [
        "import numpy as np\n",
        "import pandas as pd\n",
        "import seaborn as sns\n",
        "import matplotlib.pyplot as plt"
      ]
    },
    {
      "cell_type": "code",
      "source": [
        "from google.colab import files\n",
        "files.upload()"
      ],
      "metadata": {
        "id": "DDH3HMBaq7ka"
      },
      "execution_count": null,
      "outputs": []
    },
    {
      "cell_type": "code",
      "source": [
        "adult = pd.read_csv('adult.csv')\n",
        "adult.head()"
      ],
      "metadata": {
        "id": "xs2fUDz9rGWc"
      },
      "execution_count": null,
      "outputs": []
    },
    {
      "cell_type": "code",
      "source": [
        "# Explore the Above/Below 50k variable\n",
        "print(adult[\"Above/Below 50k\"].describe())\n",
        "\n",
        "# Print a frequency table of \"Above/Below 50k\"\n",
        "print(adult[\"Above/Below 50k\"].value_counts())\n",
        "\n",
        "# Print relative frequency values\n",
        "print(adult[\"Above/Below 50k\"].value_counts(normalize=True))"
      ],
      "metadata": {
        "id": "mbBURYuwrhn-"
      },
      "execution_count": null,
      "outputs": []
    },
    {
      "cell_type": "code",
      "source": [
        "# Create a Series, default dtype\n",
        "series1 = pd.Series(list_of_occupations)\n",
        "\n",
        "# Print out the data type and number of bytes for series1\n",
        "print(\"series1 data type:\", series1.dtype)\n",
        "print(\"series1 number of bytes:\", series1.nbytes)\n",
        "\n",
        "# Create a Series, \"category\" dtype\n",
        "series2 = pd.Series(list_of_occupations, dtype=\"category\")\n",
        "\n",
        "# Print out the data type and number of bytes for series2\n",
        "print(\"series2 data type:\", series2.dtype)\n",
        "print(\"series2 number of bytes:\", series2.nbytes)"
      ],
      "metadata": {
        "id": "mr7G6m4MrlR0"
      },
      "execution_count": null,
      "outputs": []
    },
    {
      "cell_type": "code",
      "source": [
        "# Create a categorical Series and specify the categories (let pandas know the order matters!)\n",
        "medals = pd.Categorical(medals_won,categories=['Bronze','Silver','Gold'],ordered=True )\n",
        "print(medals)"
      ],
      "metadata": {
        "id": "GIJk6BflvZxp"
      },
      "execution_count": null,
      "outputs": []
    },
    {
      "cell_type": "code",
      "source": [
        "# Check the dtypes\n",
        "print(adult.dtypes)\n",
        "\n",
        "# Create a dictionary with column names as keys and \"category\" as values\n",
        "adult_dtypes = {\n",
        "   \"Workclass\": \"category\",\n",
        "   \"Education\": \"category\",\n",
        "   \"Relationship\": \"category\",\n",
        "   \"Above/Below 50k\": \"category\" \n",
        "}\n",
        "\n",
        "# Read in the CSV using the dtypes parameter\n",
        "adult2 = pd.read_csv(\n",
        "  \"adult.csv\",\n",
        "  dtype=adult_dtypes\n",
        ")\n",
        "print(adult2.dtypes)"
      ],
      "metadata": {
        "id": "wA6spcPxwTnd"
      },
      "execution_count": null,
      "outputs": []
    },
    {
      "cell_type": "code",
      "source": [
        "# Group the adult dataset by \"Sex\" and \"Above/Below 50k\"\n",
        "gb = adult.groupby(by=['Sex','Above/Below 50k'])\n",
        "\n",
        "# Print out how many rows are in each created group\n",
        "print(gb.size())\n",
        "\n",
        "# Print out the mean of each group for all columns\n",
        "print(gb.mean())"
      ],
      "metadata": {
        "id": "nxF_M1b7xB2Q"
      },
      "execution_count": null,
      "outputs": []
    },
    {
      "cell_type": "code",
      "source": [
        "# Create a list of user-selected variables\n",
        "user_list = ['Education', 'Above/Below 50k']\n",
        "\n",
        "# Create a GroupBy object using this list\n",
        "gb = adult.groupby(by=user_list)\n",
        "\n",
        "# Find the mean for the variable \"Hours/Week\" for each group - Be efficient!\n",
        "print(gb['Hours/Week'].mean())"
      ],
      "metadata": {
        "id": "27G_dTSSztQV"
      },
      "execution_count": null,
      "outputs": []
    },
    {
      "cell_type": "code",
      "source": [],
      "metadata": {
        "id": "pG-Y9sOM0ZP6"
      },
      "execution_count": null,
      "outputs": []
    }
  ]
}