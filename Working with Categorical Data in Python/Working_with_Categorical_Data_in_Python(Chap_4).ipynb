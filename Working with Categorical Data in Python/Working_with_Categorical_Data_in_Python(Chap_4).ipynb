{
  "nbformat": 4,
  "nbformat_minor": 0,
  "metadata": {
    "colab": {
      "provenance": []
    },
    "kernelspec": {
      "name": "python3",
      "display_name": "Python 3"
    },
    "language_info": {
      "name": "python"
    }
  },
  "cells": [
    {
      "cell_type": "code",
      "execution_count": 1,
      "metadata": {
        "id": "rBHPXx9cAHUh"
      },
      "outputs": [],
      "source": [
        "import numpy as np\n",
        "import pandas as pd\n",
        "import seaborn as sns\n",
        "import matplotlib.pyplot as plt"
      ]
    },
    {
      "cell_type": "code",
      "source": [
        "from google.colab import files\n",
        "files.upload()"
      ],
      "metadata": {
        "id": "qciBatC9ALK_"
      },
      "execution_count": null,
      "outputs": []
    },
    {
      "cell_type": "code",
      "source": [
        "used_cars = pd.read_csv('cars.csv')\n",
        "used_cars.columns"
      ],
      "metadata": {
        "colab": {
          "base_uri": "https://localhost:8080/"
        },
        "id": "Te_7Hge9DWsd",
        "outputId": "3627e4c0-b25d-4804-8662-82a953b03d9d"
      },
      "execution_count": 9,
      "outputs": [
        {
          "output_type": "execute_result",
          "data": {
            "text/plain": [
              "Index(['manufacturer_name', 'model_name', 'transmission', 'color',\n",
              "       'odometer_value', 'year_produced', 'engine_fuel', 'engine_has_gas',\n",
              "       'engine_type', 'engine_capacity', 'body_type', 'has_warranty', 'state',\n",
              "       'drivetrain', 'price_usd', 'is_exchangeable', 'location_region',\n",
              "       'number_of_photos', 'up_counter', 'feature_0', 'feature_1', 'feature_2',\n",
              "       'feature_3', 'feature_4', 'feature_5', 'feature_6', 'feature_7',\n",
              "       'feature_8', 'feature_9', 'duration_listed'],\n",
              "      dtype='object')"
            ]
          },
          "metadata": {},
          "execution_count": 9
        }
      ]
    },
    {
      "cell_type": "code",
      "source": [
        "# Print the frequency table of body_type and include NaN values\n",
        "print(used_cars[\"body_type\"].value_counts(dropna=False))\n",
        "\n",
        "# Update NaN values\n",
        "used_cars.loc[used_cars[\"body_type\"].isna(), \"body_type\"] = \"other\"\n",
        "\n",
        "# Convert body_type to title case\n",
        "used_cars[\"body_type\"] = used_cars[\"body_type\"].str.title()\n",
        "\n",
        "# Check the dtype\n",
        "print(used_cars['body_type'].dtype)"
      ],
      "metadata": {
        "id": "pol6M-RYDNhI"
      },
      "execution_count": null,
      "outputs": []
    },
    {
      "cell_type": "code",
      "source": [
        "# Print the frequency table of Sale Rating\n",
        "print(used_cars[\"sale_rating\"].value_counts())\n",
        "\n",
        "# Find the average score\n",
        "average_score = used_cars[\"Sale Rating\"].astype(int).mean()\n",
        "\n",
        "# Print the average\n",
        "print(average_score)"
      ],
      "metadata": {
        "id": "hSrA20SbD4dQ"
      },
      "execution_count": null,
      "outputs": []
    },
    {
      "cell_type": "code",
      "source": [
        "# Convert to categorical and print the frequency table\n",
        "used_cars[\"color\"] = used_cars[\"color\"].astype(\"category\")\n",
        "print(used_cars[\"color\"].value_counts())\n",
        "\n",
        "# Create a label encoding\n",
        "used_cars[\"color_code\"] = used_cars[\"color\"].cat.codes\n",
        "\n",
        "# Create codes and categories objects\n",
        "codes = used_cars[\"color\"].cat.codes\n",
        "categories = used_cars[\"color\"]\n",
        "color_map = dict(zip(codes, categories))\n",
        "\n",
        "# Print the map\n",
        "print(color_map)"
      ],
      "metadata": {
        "id": "XbuZQ3x9ES-Z"
      },
      "execution_count": null,
      "outputs": []
    },
    {
      "cell_type": "code",
      "source": [
        "# Update the color column using the color_map\n",
        "used_cars_updated[\"color\"] = used_cars_updated['color'].map(color_map)\n",
        "# Update the engine fuel column using the fuel_map\n",
        "used_cars_updated[\"engine_fuel\"] = used_cars_updated['engine_fuel'].map(fuel_map)\n",
        "# Update the transmission column using the transmission_map\n",
        "used_cars_updated[\"transmission\"] = used_cars_updated['transmission'].map(transmission_map)\n",
        "\n",
        "# Print the info statement\n",
        "print(used_cars_updated.info())"
      ],
      "metadata": {
        "id": "pL38UyLCHYkk"
      },
      "execution_count": null,
      "outputs": []
    },
    {
      "cell_type": "code",
      "source": [
        "# Print the \"manufacturer_name\" frequency table.\n",
        "print(used_cars[\"manufacturer_name\"].value_counts())\n",
        "\n",
        "# Create a Boolean column for the most common manufacturer name\n",
        "used_cars[\"is_volkswagen\"] = np.where(\n",
        "  used_cars[\"manufacturer_name\"].str.contains(\"Volkswagen\", regex=False), 1, 0\n",
        ")\n",
        "  \n",
        "# Check the final frequency table\n",
        "print(used_cars['is_volkswagen'].value_counts(dropna=False))"
      ],
      "metadata": {
        "id": "zDvLeDHLIPXd"
      },
      "execution_count": null,
      "outputs": []
    },
    {
      "cell_type": "code",
      "source": [
        "# Create one-hot encoding for just two columns\n",
        "used_cars_simple = pd.get_dummies(\n",
        "  used_cars,\n",
        "  # Specify the columns from the instructions\n",
        "  columns=['manufacturer_name','transmission'],\n",
        "  # Set the prefix\n",
        "  prefix='dummy'\n",
        ")\n",
        "\n",
        "# Print the shape of the new dataset\n",
        "print(used_cars_simple.shape)"
      ],
      "metadata": {
        "colab": {
          "base_uri": "https://localhost:8080/"
        },
        "id": "imgtSHaQI1By",
        "outputId": "49ddf341-047e-4a3c-d584-ff4126697e5c"
      },
      "execution_count": 14,
      "outputs": [
        {
          "output_type": "stream",
          "name": "stdout",
          "text": [
            "(38531, 87)\n"
          ]
        }
      ]
    },
    {
      "cell_type": "code",
      "source": [],
      "metadata": {
        "id": "dJ6up82ILPOp"
      },
      "execution_count": null,
      "outputs": []
    }
  ]
}