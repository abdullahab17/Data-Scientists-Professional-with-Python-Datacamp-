{
  "nbformat": 4,
  "nbformat_minor": 0,
  "metadata": {
    "colab": {
      "provenance": []
    },
    "kernelspec": {
      "name": "python3",
      "display_name": "Python 3"
    },
    "language_info": {
      "name": "python"
    }
  },
  "cells": [
    {
      "cell_type": "code",
      "execution_count": 1,
      "metadata": {
        "id": "KL5zRmNzzfoq"
      },
      "outputs": [],
      "source": [
        "import numpy as np\n",
        "import pandas as pd\n",
        "import seaborn as sns\n",
        "import matplotlib.pyplot as plt"
      ]
    },
    {
      "cell_type": "code",
      "source": [
        "from google.colab import files\n",
        "files.upload()"
      ],
      "metadata": {
        "id": "9CzmCWzczkOB"
      },
      "execution_count": null,
      "outputs": []
    },
    {
      "cell_type": "code",
      "source": [
        "dogs =pd.read_csv('ShelterDogs.csv')\n",
        "dogs.head()"
      ],
      "metadata": {
        "colab": {
          "base_uri": "https://localhost:8080/",
          "height": 391
        },
        "id": "iDeCOwgFzoMZ",
        "outputId": "130fe301-8b42-48ef-f617-ef83b8bfd80d"
      },
      "execution_count": 3,
      "outputs": [
        {
          "output_type": "execute_result",
          "data": {
            "text/plain": [
              "      ID            name   age     sex               breed date_found  \\\n",
              "0  23807            Gida  0.25  female         Unknown Mix   12/10/19   \n",
              "1    533  Frida És Ricsi  0.17  female         Unknown Mix    12/1/19   \n",
              "2  23793             NaN  4.00    male         Unknown Mix    12/8/19   \n",
              "3  23795             NaN  1.00    male         Unknown Mix    12/8/19   \n",
              "4  23806             Amy  2.00  female  French Bulldog Mix   12/10/19   \n",
              "\n",
              "  adoptable_from    posted            color    coat    size neutered  \\\n",
              "0       12/11/19  12/11/19              red   short   small       no   \n",
              "1        12/1/19   12/9/19  black and white   short   small       no   \n",
              "2       12/23/19   12/8/19      saddle back   short  medium       no   \n",
              "3       12/23/19   12/8/19     yellow-brown  medium  medium       no   \n",
              "4       12/11/19  12/11/19            black   short   small       no   \n",
              "\n",
              "  housebroken likes_people likes_children get_along_males get_along_females  \\\n",
              "0         NaN          NaN            NaN             NaN               NaN   \n",
              "1         NaN          yes            yes             yes               yes   \n",
              "2         NaN          NaN            NaN             NaN               NaN   \n",
              "3         NaN          NaN            NaN             NaN               NaN   \n",
              "4         NaN          NaN            NaN             NaN               NaN   \n",
              "\n",
              "  get_along_cats keep_in  \n",
              "0            NaN     NaN  \n",
              "1            yes     NaN  \n",
              "2            NaN     NaN  \n",
              "3            NaN     NaN  \n",
              "4            NaN     NaN  "
            ],
            "text/html": [
              "\n",
              "  <div id=\"df-53bdb85c-16c6-499a-a7ef-6159a1255b0e\">\n",
              "    <div class=\"colab-df-container\">\n",
              "      <div>\n",
              "<style scoped>\n",
              "    .dataframe tbody tr th:only-of-type {\n",
              "        vertical-align: middle;\n",
              "    }\n",
              "\n",
              "    .dataframe tbody tr th {\n",
              "        vertical-align: top;\n",
              "    }\n",
              "\n",
              "    .dataframe thead th {\n",
              "        text-align: right;\n",
              "    }\n",
              "</style>\n",
              "<table border=\"1\" class=\"dataframe\">\n",
              "  <thead>\n",
              "    <tr style=\"text-align: right;\">\n",
              "      <th></th>\n",
              "      <th>ID</th>\n",
              "      <th>name</th>\n",
              "      <th>age</th>\n",
              "      <th>sex</th>\n",
              "      <th>breed</th>\n",
              "      <th>date_found</th>\n",
              "      <th>adoptable_from</th>\n",
              "      <th>posted</th>\n",
              "      <th>color</th>\n",
              "      <th>coat</th>\n",
              "      <th>size</th>\n",
              "      <th>neutered</th>\n",
              "      <th>housebroken</th>\n",
              "      <th>likes_people</th>\n",
              "      <th>likes_children</th>\n",
              "      <th>get_along_males</th>\n",
              "      <th>get_along_females</th>\n",
              "      <th>get_along_cats</th>\n",
              "      <th>keep_in</th>\n",
              "    </tr>\n",
              "  </thead>\n",
              "  <tbody>\n",
              "    <tr>\n",
              "      <th>0</th>\n",
              "      <td>23807</td>\n",
              "      <td>Gida</td>\n",
              "      <td>0.25</td>\n",
              "      <td>female</td>\n",
              "      <td>Unknown Mix</td>\n",
              "      <td>12/10/19</td>\n",
              "      <td>12/11/19</td>\n",
              "      <td>12/11/19</td>\n",
              "      <td>red</td>\n",
              "      <td>short</td>\n",
              "      <td>small</td>\n",
              "      <td>no</td>\n",
              "      <td>NaN</td>\n",
              "      <td>NaN</td>\n",
              "      <td>NaN</td>\n",
              "      <td>NaN</td>\n",
              "      <td>NaN</td>\n",
              "      <td>NaN</td>\n",
              "      <td>NaN</td>\n",
              "    </tr>\n",
              "    <tr>\n",
              "      <th>1</th>\n",
              "      <td>533</td>\n",
              "      <td>Frida És Ricsi</td>\n",
              "      <td>0.17</td>\n",
              "      <td>female</td>\n",
              "      <td>Unknown Mix</td>\n",
              "      <td>12/1/19</td>\n",
              "      <td>12/1/19</td>\n",
              "      <td>12/9/19</td>\n",
              "      <td>black and white</td>\n",
              "      <td>short</td>\n",
              "      <td>small</td>\n",
              "      <td>no</td>\n",
              "      <td>NaN</td>\n",
              "      <td>yes</td>\n",
              "      <td>yes</td>\n",
              "      <td>yes</td>\n",
              "      <td>yes</td>\n",
              "      <td>yes</td>\n",
              "      <td>NaN</td>\n",
              "    </tr>\n",
              "    <tr>\n",
              "      <th>2</th>\n",
              "      <td>23793</td>\n",
              "      <td>NaN</td>\n",
              "      <td>4.00</td>\n",
              "      <td>male</td>\n",
              "      <td>Unknown Mix</td>\n",
              "      <td>12/8/19</td>\n",
              "      <td>12/23/19</td>\n",
              "      <td>12/8/19</td>\n",
              "      <td>saddle back</td>\n",
              "      <td>short</td>\n",
              "      <td>medium</td>\n",
              "      <td>no</td>\n",
              "      <td>NaN</td>\n",
              "      <td>NaN</td>\n",
              "      <td>NaN</td>\n",
              "      <td>NaN</td>\n",
              "      <td>NaN</td>\n",
              "      <td>NaN</td>\n",
              "      <td>NaN</td>\n",
              "    </tr>\n",
              "    <tr>\n",
              "      <th>3</th>\n",
              "      <td>23795</td>\n",
              "      <td>NaN</td>\n",
              "      <td>1.00</td>\n",
              "      <td>male</td>\n",
              "      <td>Unknown Mix</td>\n",
              "      <td>12/8/19</td>\n",
              "      <td>12/23/19</td>\n",
              "      <td>12/8/19</td>\n",
              "      <td>yellow-brown</td>\n",
              "      <td>medium</td>\n",
              "      <td>medium</td>\n",
              "      <td>no</td>\n",
              "      <td>NaN</td>\n",
              "      <td>NaN</td>\n",
              "      <td>NaN</td>\n",
              "      <td>NaN</td>\n",
              "      <td>NaN</td>\n",
              "      <td>NaN</td>\n",
              "      <td>NaN</td>\n",
              "    </tr>\n",
              "    <tr>\n",
              "      <th>4</th>\n",
              "      <td>23806</td>\n",
              "      <td>Amy</td>\n",
              "      <td>2.00</td>\n",
              "      <td>female</td>\n",
              "      <td>French Bulldog Mix</td>\n",
              "      <td>12/10/19</td>\n",
              "      <td>12/11/19</td>\n",
              "      <td>12/11/19</td>\n",
              "      <td>black</td>\n",
              "      <td>short</td>\n",
              "      <td>small</td>\n",
              "      <td>no</td>\n",
              "      <td>NaN</td>\n",
              "      <td>NaN</td>\n",
              "      <td>NaN</td>\n",
              "      <td>NaN</td>\n",
              "      <td>NaN</td>\n",
              "      <td>NaN</td>\n",
              "      <td>NaN</td>\n",
              "    </tr>\n",
              "  </tbody>\n",
              "</table>\n",
              "</div>\n",
              "      <button class=\"colab-df-convert\" onclick=\"convertToInteractive('df-53bdb85c-16c6-499a-a7ef-6159a1255b0e')\"\n",
              "              title=\"Convert this dataframe to an interactive table.\"\n",
              "              style=\"display:none;\">\n",
              "        \n",
              "  <svg xmlns=\"http://www.w3.org/2000/svg\" height=\"24px\"viewBox=\"0 0 24 24\"\n",
              "       width=\"24px\">\n",
              "    <path d=\"M0 0h24v24H0V0z\" fill=\"none\"/>\n",
              "    <path d=\"M18.56 5.44l.94 2.06.94-2.06 2.06-.94-2.06-.94-.94-2.06-.94 2.06-2.06.94zm-11 1L8.5 8.5l.94-2.06 2.06-.94-2.06-.94L8.5 2.5l-.94 2.06-2.06.94zm10 10l.94 2.06.94-2.06 2.06-.94-2.06-.94-.94-2.06-.94 2.06-2.06.94z\"/><path d=\"M17.41 7.96l-1.37-1.37c-.4-.4-.92-.59-1.43-.59-.52 0-1.04.2-1.43.59L10.3 9.45l-7.72 7.72c-.78.78-.78 2.05 0 2.83L4 21.41c.39.39.9.59 1.41.59.51 0 1.02-.2 1.41-.59l7.78-7.78 2.81-2.81c.8-.78.8-2.07 0-2.86zM5.41 20L4 18.59l7.72-7.72 1.47 1.35L5.41 20z\"/>\n",
              "  </svg>\n",
              "      </button>\n",
              "      \n",
              "  <style>\n",
              "    .colab-df-container {\n",
              "      display:flex;\n",
              "      flex-wrap:wrap;\n",
              "      gap: 12px;\n",
              "    }\n",
              "\n",
              "    .colab-df-convert {\n",
              "      background-color: #E8F0FE;\n",
              "      border: none;\n",
              "      border-radius: 50%;\n",
              "      cursor: pointer;\n",
              "      display: none;\n",
              "      fill: #1967D2;\n",
              "      height: 32px;\n",
              "      padding: 0 0 0 0;\n",
              "      width: 32px;\n",
              "    }\n",
              "\n",
              "    .colab-df-convert:hover {\n",
              "      background-color: #E2EBFA;\n",
              "      box-shadow: 0px 1px 2px rgba(60, 64, 67, 0.3), 0px 1px 3px 1px rgba(60, 64, 67, 0.15);\n",
              "      fill: #174EA6;\n",
              "    }\n",
              "\n",
              "    [theme=dark] .colab-df-convert {\n",
              "      background-color: #3B4455;\n",
              "      fill: #D2E3FC;\n",
              "    }\n",
              "\n",
              "    [theme=dark] .colab-df-convert:hover {\n",
              "      background-color: #434B5C;\n",
              "      box-shadow: 0px 1px 3px 1px rgba(0, 0, 0, 0.15);\n",
              "      filter: drop-shadow(0px 1px 2px rgba(0, 0, 0, 0.3));\n",
              "      fill: #FFFFFF;\n",
              "    }\n",
              "  </style>\n",
              "\n",
              "      <script>\n",
              "        const buttonEl =\n",
              "          document.querySelector('#df-53bdb85c-16c6-499a-a7ef-6159a1255b0e button.colab-df-convert');\n",
              "        buttonEl.style.display =\n",
              "          google.colab.kernel.accessAllowed ? 'block' : 'none';\n",
              "\n",
              "        async function convertToInteractive(key) {\n",
              "          const element = document.querySelector('#df-53bdb85c-16c6-499a-a7ef-6159a1255b0e');\n",
              "          const dataTable =\n",
              "            await google.colab.kernel.invokeFunction('convertToInteractive',\n",
              "                                                     [key], {});\n",
              "          if (!dataTable) return;\n",
              "\n",
              "          const docLinkHtml = 'Like what you see? Visit the ' +\n",
              "            '<a target=\"_blank\" href=https://colab.research.google.com/notebooks/data_table.ipynb>data table notebook</a>'\n",
              "            + ' to learn more about interactive tables.';\n",
              "          element.innerHTML = '';\n",
              "          dataTable['output_type'] = 'display_data';\n",
              "          await google.colab.output.renderOutput(dataTable, element);\n",
              "          const docLink = document.createElement('div');\n",
              "          docLink.innerHTML = docLinkHtml;\n",
              "          element.appendChild(docLink);\n",
              "        }\n",
              "      </script>\n",
              "    </div>\n",
              "  </div>\n",
              "  "
            ]
          },
          "metadata": {},
          "execution_count": 3
        }
      ]
    },
    {
      "cell_type": "code",
      "source": [
        "# Check frequency counts while also printing the NaN count\n",
        "print(dogs[\"keep_in\"].value_counts(dropna=False))\n",
        "\n",
        "# Switch to a categorical variable\n",
        "dogs[\"keep_in\"] = dogs[\"keep_in\"].astype(\"category\")\n",
        "\n",
        "# Add new categories\n",
        "new_categories = [\"Unknown History\", \"Open Yard (Countryside)\"]\n",
        "dogs[\"keep_in\"] = dogs[\"keep_in\"].cat.add_categories(new_categories)\n",
        "\n",
        "# Check frequency counts one more time\n",
        "print(dogs['keep_in'].value_counts(dropna=False))"
      ],
      "metadata": {
        "id": "3xWM1DgUz1hN"
      },
      "execution_count": null,
      "outputs": []
    },
    {
      "cell_type": "code",
      "source": [
        "#dogs['likes_children']=dogs['likes_children'].astype('category')\n",
        "# Set \"maybe\" to be \"no\"\n",
        "dogs.loc[dogs[\"likes_children\"] == \"maybe\", \"likes_children\"] = \"no\"\n",
        "\n",
        "# Print out categories\n",
        "print(dogs[\"likes_children\"].cat.categories)\n",
        "\n",
        "# Print the frequency table\n",
        "print(dogs[\"likes_children\"].value_counts())\n",
        "\n",
        "# Remove the `\"maybe\" category\n",
        "dogs[\"likes_children\"] = dogs[\"likes_children\"].cat.remove_categories([\"maybe\"])\n",
        "print(dogs[\"likes_children\"].value_counts())\n",
        "\n",
        "# Print the categories one more time\n",
        "print(dogs['likes_children'].cat.categories)"
      ],
      "metadata": {
        "id": "ecjfyZM0z5-E"
      },
      "execution_count": null,
      "outputs": []
    },
    {
      "cell_type": "code",
      "source": [
        "# Create the my_changes dictionary\n",
        "my_changes = {'Maybe?':'Maybe'}\n",
        "\n",
        "# Rename the categories listed in the my_changes dictionary\n",
        "dogs[\"likes_children\"] = dogs['likes_children'].cat.rename_categories(my_changes)\n",
        "\n",
        "# Use a lambda function to convert all categories to uppercase using upper()\n",
        "dogs[\"likes_children\"] =  dogs[\"likes_children\"].cat.rename_categories(lambda c: c.upper())\n",
        "\n",
        "# Print the list of categories\n",
        "print(dogs['likes_children'].cat.categories)"
      ],
      "metadata": {
        "colab": {
          "base_uri": "https://localhost:8080/"
        },
        "id": "MFfiZXm-1g8O",
        "outputId": "243629bb-981e-4428-8dc2-6501c41d9aeb"
      },
      "execution_count": 12,
      "outputs": [
        {
          "output_type": "stream",
          "name": "stdout",
          "text": [
            "Index(['NO', 'YES'], dtype='object')\n"
          ]
        }
      ]
    },
    {
      "cell_type": "code",
      "source": [
        "# Create the update_coats dictionary\n",
        "update_coats = {'wirehaired':'medium','medium-long':'medium'}\n",
        "\n",
        "# Create a new column, coat_collapsed\n",
        "dogs[\"coat_collapsed\"] = dogs['coat'].replace(update_coats)\n",
        "\n",
        "# Convert the column to categorical\n",
        "dogs['coat_collapsed']=dogs['coat_collapsed'].astype('category')\n",
        "\n",
        "# Print the frequency table\n",
        "print(dogs['coat_collapsed'].value_counts())"
      ],
      "metadata": {
        "id": "0Bo2r52n7eea"
      },
      "execution_count": null,
      "outputs": []
    },
    {
      "cell_type": "code",
      "source": [
        "dogs['size'] = dogs['size'].astype('category')\n",
        "\n",
        "# Print out the current categories of the size variable\n",
        "print(dogs[\"size\"].cat.categories)\n",
        "\n",
        "# Reorder the categories, specifying the Series is ordinal, and overwriting the original series\n",
        "dogs[\"size\"].cat.reorder_categories(\n",
        "  new_categories=[\"small\", \"medium\", \"large\"],\n",
        "  ordered=True,\n",
        "  inplace=True\n",
        ")"
      ],
      "metadata": {
        "id": "jxk5gdzS8aZ2"
      },
      "execution_count": null,
      "outputs": []
    },
    {
      "cell_type": "code",
      "source": [
        "# Previous code\n",
        "dogs[\"size\"].cat.reorder_categories(\n",
        "  new_categories=[\"small\", \"medium\", \"large\"],\n",
        "  ordered=True,\n",
        "  inplace=True\n",
        ")\n",
        "\n",
        "# How many Male/Female dogs are available of each size?\n",
        "print(dogs.groupby(by='size')['sex'].value_counts())\n",
        "\n",
        "# Do larger dogs need more room to roam?\n",
        "print(dogs.groupby(by='size')['keep_in'].value_counts())"
      ],
      "metadata": {
        "colab": {
          "base_uri": "https://localhost:8080/"
        },
        "id": "Fr2xIHZh-cuq",
        "outputId": "4459e777-5f4b-4ac3-ae07-baf00daca491"
      },
      "execution_count": 16,
      "outputs": [
        {
          "output_type": "stream",
          "name": "stdout",
          "text": [
            "size    sex   \n",
            "small   male       260\n",
            "        female     214\n",
            "medium  male      1090\n",
            "        female     854\n",
            "large   male       331\n",
            "        female     188\n",
            "Name: sex, dtype: int64\n",
            "size    keep_in                \n",
            "small   both flat and garden       238\n",
            "        flat                        80\n",
            "        garden                      21\n",
            "        Unknown History              0\n",
            "        Open Yard (Countryside)      0\n",
            "medium  both flat and garden       795\n",
            "        garden                     317\n",
            "        flat                        97\n",
            "        Unknown History              0\n",
            "        Open Yard (Countryside)      0\n",
            "large   both flat and garden       191\n",
            "        garden                     172\n",
            "        flat                         5\n",
            "        Unknown History              0\n",
            "        Open Yard (Countryside)      0\n",
            "Name: keep_in, dtype: int64\n"
          ]
        },
        {
          "output_type": "stream",
          "name": "stderr",
          "text": [
            "<ipython-input-16-4a65230a956e>:2: FutureWarning: The `inplace` parameter in pandas.Categorical.reorder_categories is deprecated and will be removed in a future version. Reordering categories will always return a new Categorical object.\n",
            "  dogs[\"size\"].cat.reorder_categories(\n"
          ]
        }
      ]
    },
    {
      "cell_type": "code",
      "source": [
        "# Fix the misspelled word\n",
        "replace_map = {\"Malez\": \"male\"}\n",
        "\n",
        "# Update the sex column using the created map\n",
        "dogs[\"sex\"] = dogs[\"sex\"].replace(replace_map)\n",
        "\n",
        "# Strip away leading whitespace\n",
        "dogs[\"sex\"] = dogs[\"sex\"].str.strip()\n",
        "\n",
        "# Make all responses lowercase\n",
        "dogs[\"sex\"] = dogs[\"sex\"].str.lower()\n",
        "\n",
        "# Convert to a categorical Series\n",
        "dogs[\"sex\"] = dogs['sex'].astype('category')\n",
        "\n",
        "print(dogs[\"sex\"].value_counts())"
      ],
      "metadata": {
        "colab": {
          "base_uri": "https://localhost:8080/"
        },
        "id": "bdfy_jnm_rmJ",
        "outputId": "40a2ac4e-69bd-4b5c-e9f7-642951a1b54e"
      },
      "execution_count": 17,
      "outputs": [
        {
          "output_type": "stream",
          "name": "stdout",
          "text": [
            "male      1681\n",
            "female    1256\n",
            "Name: sex, dtype: int64\n"
          ]
        }
      ]
    },
    {
      "cell_type": "code",
      "source": [],
      "metadata": {
        "id": "4aRZ0cOsBwc2"
      },
      "execution_count": null,
      "outputs": []
    }
  ]
}