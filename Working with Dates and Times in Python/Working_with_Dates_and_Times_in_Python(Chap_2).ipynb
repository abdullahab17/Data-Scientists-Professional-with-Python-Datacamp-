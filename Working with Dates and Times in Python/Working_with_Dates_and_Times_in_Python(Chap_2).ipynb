{
  "nbformat": 4,
  "nbformat_minor": 0,
  "metadata": {
    "colab": {
      "provenance": []
    },
    "kernelspec": {
      "name": "python3",
      "display_name": "Python 3"
    },
    "language_info": {
      "name": "python"
    }
  },
  "cells": [
    {
      "cell_type": "code",
      "execution_count": 1,
      "metadata": {
        "id": "gk_3MahUB6ya"
      },
      "outputs": [],
      "source": [
        "import numpy as np\n",
        "import pandas as pd\n",
        "import seaborn as sns\n",
        "import matplotlib.pyplot as plt"
      ]
    },
    {
      "cell_type": "code",
      "source": [
        "from google.colab import files\n",
        "files.upload()"
      ],
      "metadata": {
        "id": "LaPBnMARB-WP"
      },
      "execution_count": null,
      "outputs": []
    },
    {
      "cell_type": "code",
      "source": [
        "# Import datetime\n",
        "from datetime import datetime\n",
        "\n",
        "# Create a datetime object\n",
        "dt = datetime(2017, 12, 31, 15, 19, 13)\n",
        "\n",
        "# Replace the year with 1917\n",
        "dt_old = dt.replace(year=1917)\n",
        "\n",
        "# Print the results in ISO 8601 format\n",
        "print(dt_old)"
      ],
      "metadata": {
        "colab": {
          "base_uri": "https://localhost:8080/"
        },
        "id": "CRu2TEQ7ENrN",
        "outputId": "1ae12e0e-43b7-4e73-d6cd-d1556e65918e"
      },
      "execution_count": 2,
      "outputs": [
        {
          "output_type": "stream",
          "name": "stdout",
          "text": [
            "1917-12-31 15:19:13\n"
          ]
        }
      ]
    },
    {
      "cell_type": "code",
      "source": [
        "onebike_datetimes = pd.read_csv('capital-onebike.csv')\n",
        "onebike_datetimes.head()"
      ],
      "metadata": {
        "colab": {
          "base_uri": "https://localhost:8080/",
          "height": 206
        },
        "id": "Ez3nIG4AEOJ5",
        "outputId": "affdf621-d8f9-4464-c0f8-47a8feaefa83"
      },
      "execution_count": 5,
      "outputs": [
        {
          "output_type": "execute_result",
          "data": {
            "text/plain": [
              "            Start date             End date  Start station number  \\\n",
              "0  2017-10-01 15:23:25  2017-10-01 15:26:26                 31038   \n",
              "1  2017-10-01 15:42:57  2017-10-01 17:49:59                 31036   \n",
              "2  2017-10-02 06:37:10  2017-10-02 06:42:53                 31036   \n",
              "3  2017-10-02 08:56:45  2017-10-02 09:18:03                 31037   \n",
              "4  2017-10-02 18:23:48  2017-10-02 18:45:05                 31295   \n",
              "\n",
              "                          Start station  End station number  \\\n",
              "0                  Glebe Rd & 11th St N               31036   \n",
              "1         George Mason Dr & Wilson Blvd               31036   \n",
              "2         George Mason Dr & Wilson Blvd               31037   \n",
              "3  Ballston Metro / N Stuart & 9th St N               31295   \n",
              "4                     Potomac & M St NW               31230   \n",
              "\n",
              "                            End station Bike number Member type  \n",
              "0         George Mason Dr & Wilson Blvd      W20529      Member  \n",
              "1         George Mason Dr & Wilson Blvd      W20529      Casual  \n",
              "2  Ballston Metro / N Stuart & 9th St N      W20529      Member  \n",
              "3                     Potomac & M St NW      W20529      Member  \n",
              "4         Metro Center / 12th & G St NW      W20529      Member  "
            ],
            "text/html": [
              "\n",
              "\n",
              "  <div id=\"df-e8110024-6161-4a14-85a1-794ba5b44aee\">\n",
              "    <div class=\"colab-df-container\">\n",
              "      <div>\n",
              "<style scoped>\n",
              "    .dataframe tbody tr th:only-of-type {\n",
              "        vertical-align: middle;\n",
              "    }\n",
              "\n",
              "    .dataframe tbody tr th {\n",
              "        vertical-align: top;\n",
              "    }\n",
              "\n",
              "    .dataframe thead th {\n",
              "        text-align: right;\n",
              "    }\n",
              "</style>\n",
              "<table border=\"1\" class=\"dataframe\">\n",
              "  <thead>\n",
              "    <tr style=\"text-align: right;\">\n",
              "      <th></th>\n",
              "      <th>Start date</th>\n",
              "      <th>End date</th>\n",
              "      <th>Start station number</th>\n",
              "      <th>Start station</th>\n",
              "      <th>End station number</th>\n",
              "      <th>End station</th>\n",
              "      <th>Bike number</th>\n",
              "      <th>Member type</th>\n",
              "    </tr>\n",
              "  </thead>\n",
              "  <tbody>\n",
              "    <tr>\n",
              "      <th>0</th>\n",
              "      <td>2017-10-01 15:23:25</td>\n",
              "      <td>2017-10-01 15:26:26</td>\n",
              "      <td>31038</td>\n",
              "      <td>Glebe Rd &amp; 11th St N</td>\n",
              "      <td>31036</td>\n",
              "      <td>George Mason Dr &amp; Wilson Blvd</td>\n",
              "      <td>W20529</td>\n",
              "      <td>Member</td>\n",
              "    </tr>\n",
              "    <tr>\n",
              "      <th>1</th>\n",
              "      <td>2017-10-01 15:42:57</td>\n",
              "      <td>2017-10-01 17:49:59</td>\n",
              "      <td>31036</td>\n",
              "      <td>George Mason Dr &amp; Wilson Blvd</td>\n",
              "      <td>31036</td>\n",
              "      <td>George Mason Dr &amp; Wilson Blvd</td>\n",
              "      <td>W20529</td>\n",
              "      <td>Casual</td>\n",
              "    </tr>\n",
              "    <tr>\n",
              "      <th>2</th>\n",
              "      <td>2017-10-02 06:37:10</td>\n",
              "      <td>2017-10-02 06:42:53</td>\n",
              "      <td>31036</td>\n",
              "      <td>George Mason Dr &amp; Wilson Blvd</td>\n",
              "      <td>31037</td>\n",
              "      <td>Ballston Metro / N Stuart &amp; 9th St N</td>\n",
              "      <td>W20529</td>\n",
              "      <td>Member</td>\n",
              "    </tr>\n",
              "    <tr>\n",
              "      <th>3</th>\n",
              "      <td>2017-10-02 08:56:45</td>\n",
              "      <td>2017-10-02 09:18:03</td>\n",
              "      <td>31037</td>\n",
              "      <td>Ballston Metro / N Stuart &amp; 9th St N</td>\n",
              "      <td>31295</td>\n",
              "      <td>Potomac &amp; M St NW</td>\n",
              "      <td>W20529</td>\n",
              "      <td>Member</td>\n",
              "    </tr>\n",
              "    <tr>\n",
              "      <th>4</th>\n",
              "      <td>2017-10-02 18:23:48</td>\n",
              "      <td>2017-10-02 18:45:05</td>\n",
              "      <td>31295</td>\n",
              "      <td>Potomac &amp; M St NW</td>\n",
              "      <td>31230</td>\n",
              "      <td>Metro Center / 12th &amp; G St NW</td>\n",
              "      <td>W20529</td>\n",
              "      <td>Member</td>\n",
              "    </tr>\n",
              "  </tbody>\n",
              "</table>\n",
              "</div>\n",
              "      <button class=\"colab-df-convert\" onclick=\"convertToInteractive('df-e8110024-6161-4a14-85a1-794ba5b44aee')\"\n",
              "              title=\"Convert this dataframe to an interactive table.\"\n",
              "              style=\"display:none;\">\n",
              "\n",
              "  <svg xmlns=\"http://www.w3.org/2000/svg\" height=\"24px\"viewBox=\"0 0 24 24\"\n",
              "       width=\"24px\">\n",
              "    <path d=\"M0 0h24v24H0V0z\" fill=\"none\"/>\n",
              "    <path d=\"M18.56 5.44l.94 2.06.94-2.06 2.06-.94-2.06-.94-.94-2.06-.94 2.06-2.06.94zm-11 1L8.5 8.5l.94-2.06 2.06-.94-2.06-.94L8.5 2.5l-.94 2.06-2.06.94zm10 10l.94 2.06.94-2.06 2.06-.94-2.06-.94-.94-2.06-.94 2.06-2.06.94z\"/><path d=\"M17.41 7.96l-1.37-1.37c-.4-.4-.92-.59-1.43-.59-.52 0-1.04.2-1.43.59L10.3 9.45l-7.72 7.72c-.78.78-.78 2.05 0 2.83L4 21.41c.39.39.9.59 1.41.59.51 0 1.02-.2 1.41-.59l7.78-7.78 2.81-2.81c.8-.78.8-2.07 0-2.86zM5.41 20L4 18.59l7.72-7.72 1.47 1.35L5.41 20z\"/>\n",
              "  </svg>\n",
              "      </button>\n",
              "\n",
              "\n",
              "\n",
              "    <div id=\"df-be4b04a4-b778-4c4b-91be-dec7dc01ed6d\">\n",
              "      <button class=\"colab-df-quickchart\" onclick=\"quickchart('df-be4b04a4-b778-4c4b-91be-dec7dc01ed6d')\"\n",
              "              title=\"Suggest charts.\"\n",
              "              style=\"display:none;\">\n",
              "\n",
              "<svg xmlns=\"http://www.w3.org/2000/svg\" height=\"24px\"viewBox=\"0 0 24 24\"\n",
              "     width=\"24px\">\n",
              "    <g>\n",
              "        <path d=\"M19 3H5c-1.1 0-2 .9-2 2v14c0 1.1.9 2 2 2h14c1.1 0 2-.9 2-2V5c0-1.1-.9-2-2-2zM9 17H7v-7h2v7zm4 0h-2V7h2v10zm4 0h-2v-4h2v4z\"/>\n",
              "    </g>\n",
              "</svg>\n",
              "      </button>\n",
              "    </div>\n",
              "\n",
              "<style>\n",
              "  .colab-df-quickchart {\n",
              "    background-color: #E8F0FE;\n",
              "    border: none;\n",
              "    border-radius: 50%;\n",
              "    cursor: pointer;\n",
              "    display: none;\n",
              "    fill: #1967D2;\n",
              "    height: 32px;\n",
              "    padding: 0 0 0 0;\n",
              "    width: 32px;\n",
              "  }\n",
              "\n",
              "  .colab-df-quickchart:hover {\n",
              "    background-color: #E2EBFA;\n",
              "    box-shadow: 0px 1px 2px rgba(60, 64, 67, 0.3), 0px 1px 3px 1px rgba(60, 64, 67, 0.15);\n",
              "    fill: #174EA6;\n",
              "  }\n",
              "\n",
              "  [theme=dark] .colab-df-quickchart {\n",
              "    background-color: #3B4455;\n",
              "    fill: #D2E3FC;\n",
              "  }\n",
              "\n",
              "  [theme=dark] .colab-df-quickchart:hover {\n",
              "    background-color: #434B5C;\n",
              "    box-shadow: 0px 1px 3px 1px rgba(0, 0, 0, 0.15);\n",
              "    filter: drop-shadow(0px 1px 2px rgba(0, 0, 0, 0.3));\n",
              "    fill: #FFFFFF;\n",
              "  }\n",
              "</style>\n",
              "\n",
              "    <script>\n",
              "      async function quickchart(key) {\n",
              "        const containerElement = document.querySelector('#' + key);\n",
              "        const charts = await google.colab.kernel.invokeFunction(\n",
              "            'suggestCharts', [key], {});\n",
              "      }\n",
              "    </script>\n",
              "\n",
              "      <script>\n",
              "\n",
              "function displayQuickchartButton(domScope) {\n",
              "  let quickchartButtonEl =\n",
              "    domScope.querySelector('#df-be4b04a4-b778-4c4b-91be-dec7dc01ed6d button.colab-df-quickchart');\n",
              "  quickchartButtonEl.style.display =\n",
              "    google.colab.kernel.accessAllowed ? 'block' : 'none';\n",
              "}\n",
              "\n",
              "        displayQuickchartButton(document);\n",
              "      </script>\n",
              "      <style>\n",
              "    .colab-df-container {\n",
              "      display:flex;\n",
              "      flex-wrap:wrap;\n",
              "      gap: 12px;\n",
              "    }\n",
              "\n",
              "    .colab-df-convert {\n",
              "      background-color: #E8F0FE;\n",
              "      border: none;\n",
              "      border-radius: 50%;\n",
              "      cursor: pointer;\n",
              "      display: none;\n",
              "      fill: #1967D2;\n",
              "      height: 32px;\n",
              "      padding: 0 0 0 0;\n",
              "      width: 32px;\n",
              "    }\n",
              "\n",
              "    .colab-df-convert:hover {\n",
              "      background-color: #E2EBFA;\n",
              "      box-shadow: 0px 1px 2px rgba(60, 64, 67, 0.3), 0px 1px 3px 1px rgba(60, 64, 67, 0.15);\n",
              "      fill: #174EA6;\n",
              "    }\n",
              "\n",
              "    [theme=dark] .colab-df-convert {\n",
              "      background-color: #3B4455;\n",
              "      fill: #D2E3FC;\n",
              "    }\n",
              "\n",
              "    [theme=dark] .colab-df-convert:hover {\n",
              "      background-color: #434B5C;\n",
              "      box-shadow: 0px 1px 3px 1px rgba(0, 0, 0, 0.15);\n",
              "      filter: drop-shadow(0px 1px 2px rgba(0, 0, 0, 0.3));\n",
              "      fill: #FFFFFF;\n",
              "    }\n",
              "  </style>\n",
              "\n",
              "      <script>\n",
              "        const buttonEl =\n",
              "          document.querySelector('#df-e8110024-6161-4a14-85a1-794ba5b44aee button.colab-df-convert');\n",
              "        buttonEl.style.display =\n",
              "          google.colab.kernel.accessAllowed ? 'block' : 'none';\n",
              "\n",
              "        async function convertToInteractive(key) {\n",
              "          const element = document.querySelector('#df-e8110024-6161-4a14-85a1-794ba5b44aee');\n",
              "          const dataTable =\n",
              "            await google.colab.kernel.invokeFunction('convertToInteractive',\n",
              "                                                     [key], {});\n",
              "          if (!dataTable) return;\n",
              "\n",
              "          const docLinkHtml = 'Like what you see? Visit the ' +\n",
              "            '<a target=\"_blank\" href=https://colab.research.google.com/notebooks/data_table.ipynb>data table notebook</a>'\n",
              "            + ' to learn more about interactive tables.';\n",
              "          element.innerHTML = '';\n",
              "          dataTable['output_type'] = 'display_data';\n",
              "          await google.colab.output.renderOutput(dataTable, element);\n",
              "          const docLink = document.createElement('div');\n",
              "          docLink.innerHTML = docLinkHtml;\n",
              "          element.appendChild(docLink);\n",
              "        }\n",
              "      </script>\n",
              "    </div>\n",
              "  </div>\n"
            ]
          },
          "metadata": {},
          "execution_count": 5
        }
      ]
    },
    {
      "cell_type": "code",
      "source": [
        "# Create dictionary to hold results\n",
        "trip_counts = {'AM': 0, 'PM': 0}\n",
        "\n",
        "# Loop over all trips\n",
        "for trip in onebike_datetimes:\n",
        "  # Check to see if the trip starts before noon\n",
        "  if trip['Start'].hour < 12:\n",
        "    # Increment the counter for before noon\n",
        "    trip_counts['AM'] += 1\n",
        "  else:\n",
        "    # Increment the counter for after noon\n",
        "    trip_counts['PM'] += 1\n",
        "\n",
        "print(trip_counts)"
      ],
      "metadata": {
        "id": "UW7OvyrzEiYu"
      },
      "execution_count": null,
      "outputs": []
    },
    {
      "cell_type": "code",
      "source": [
        "\n",
        "# Starting string, in MM/DD/YYYY HH:MM:SS format\n",
        "s = '12/15/1986 08:00:00'\n",
        "\n",
        "# Write a format string to parse s\n",
        "fmt = '%m/%d/%Y %H:%M:%S'\n",
        "\n",
        "# Create a datetime object d\n",
        "d = datetime.strptime(s, fmt)\n",
        "\n",
        "# Print d\n",
        "print(d)"
      ],
      "metadata": {
        "colab": {
          "base_uri": "https://localhost:8080/"
        },
        "id": "bpbXaa8QFAjR",
        "outputId": "73ab46e2-1951-48b1-c8fc-fca2c33b54e6"
      },
      "execution_count": 10,
      "outputs": [
        {
          "output_type": "stream",
          "name": "stdout",
          "text": [
            "1986-12-15 08:00:00\n"
          ]
        }
      ]
    },
    {
      "cell_type": "code",
      "source": [
        "# Write down the format string\n",
        "fmt = \"%Y-%m-%d %H:%M:%S\"\n",
        "\n",
        "# Initialize a list for holding the pairs of datetime objects\n",
        "onebike_datetimes = []\n",
        "\n",
        "# Loop over all trips\n",
        "for (start, end) in onebike_datetime_strings:\n",
        "  trip = {'start': datetime.strptime(start, fmt),\n",
        "          'end': datetime.strptime(end, fmt)}\n",
        "\n",
        "  # Append the trip\n",
        "  onebike_datetimes.append(trip)"
      ],
      "metadata": {
        "id": "gXPAXUk1Hm1P"
      },
      "execution_count": null,
      "outputs": []
    },
    {
      "cell_type": "code",
      "source": [
        "\n",
        "# Pull out the start of the first trip\n",
        "first_start = onebike_datetimes[0]['start']\n",
        "\n",
        "# Format to feed to strftime()\n",
        "fmt = \"%Y-%m-%dT%H:%M:%S\"\n",
        "\n",
        "# Print out date with .isoformat(), then with .strftime() to compare\n",
        "print(first_start.isoformat())\n",
        "print(first_start.strftime(fmt))"
      ],
      "metadata": {
        "id": "5N6l4bo9IXb7"
      },
      "execution_count": null,
      "outputs": []
    },
    {
      "cell_type": "code",
      "source": [
        "# Starting timestamps\n",
        "timestamps = [1514665153, 1514664543]\n",
        "\n",
        "# Datetime objects\n",
        "dts = []\n",
        "\n",
        "# Loop\n",
        "for ts in timestamps:\n",
        "  dts.append(datetime.fromtimestamp(ts))\n",
        "\n",
        "# Print results\n",
        "print(dts)"
      ],
      "metadata": {
        "colab": {
          "base_uri": "https://localhost:8080/"
        },
        "id": "O8AwCVtHJO3g",
        "outputId": "313696d7-62d3-4565-a829-ede3a6a6e005"
      },
      "execution_count": 14,
      "outputs": [
        {
          "output_type": "stream",
          "name": "stdout",
          "text": [
            "[datetime.datetime(2017, 12, 30, 20, 19, 13), datetime.datetime(2017, 12, 30, 20, 9, 3)]\n"
          ]
        }
      ]
    },
    {
      "cell_type": "code",
      "source": [
        "# Initialize a list for all the trip durations\n",
        "onebike_durations = []\n",
        "\n",
        "for trip in onebike_datetimes:\n",
        "  # Create a timedelta object corresponding to the length of the trip\n",
        "  trip_duration = trip['end'] - trip['start']\n",
        "\n",
        "  # Get the total elapsed seconds in trip_duration\n",
        "  trip_length_seconds = trip_duration.total_seconds()\n",
        "\n",
        "  # Append the results to our list\n",
        "  onebike_durations.append(trip_length_seconds)"
      ],
      "metadata": {
        "id": "oCbnBDaYJ8OA"
      },
      "execution_count": 15,
      "outputs": []
    },
    {
      "cell_type": "code",
      "source": [
        "# What was the total duration of all trips?\n",
        "total_elapsed_time = sum(onebike_durations)\n",
        "\n",
        "# What was the total number of trips?\n",
        "number_of_trips = len(onebike_durations)\n",
        "\n",
        "# Divide the total duration by the number of trips\n",
        "print(total_elapsed_time / number_of_trips)"
      ],
      "metadata": {
        "id": "BERnPEVcLvT9"
      },
      "execution_count": null,
      "outputs": []
    },
    {
      "cell_type": "code",
      "source": [
        "# Calculate shortest and longest trips\n",
        "shortest_trip = min(onebike_durations)\n",
        "longest_trip = max(onebike_durations)\n",
        "\n",
        "# Print out the results\n",
        "print(\"The shortest trip was \" + str(shortest_trip) + \" seconds\")\n",
        "print(\"The longest trip was \" + str(longest_trip) + \" seconds\")"
      ],
      "metadata": {
        "id": "NENQLbJMMM6A"
      },
      "execution_count": null,
      "outputs": []
    },
    {
      "cell_type": "code",
      "source": [],
      "metadata": {
        "id": "M5faJ9CNMq33"
      },
      "execution_count": null,
      "outputs": []
    }
  ]
}