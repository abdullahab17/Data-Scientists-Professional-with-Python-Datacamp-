{
  "nbformat": 4,
  "nbformat_minor": 0,
  "metadata": {
    "colab": {
      "provenance": []
    },
    "kernelspec": {
      "name": "python3",
      "display_name": "Python 3"
    },
    "language_info": {
      "name": "python"
    }
  },
  "cells": [
    {
      "cell_type": "code",
      "execution_count": 1,
      "metadata": {
        "id": "Xh8w-D1Yut7y"
      },
      "outputs": [],
      "source": [
        "import numpy as np\n",
        "import pandas as pd\n",
        "import seaborn as sns\n",
        "import matplotlib.pyplot as plt"
      ]
    },
    {
      "cell_type": "code",
      "source": [
        "from google.colab import files\n",
        "files.upload()"
      ],
      "metadata": {
        "id": "Fg5c-7Biu1lf"
      },
      "execution_count": null,
      "outputs": []
    },
    {
      "cell_type": "code",
      "source": [
        "unemployment = pd.read_csv('clean_unemployment.csv')\n",
        "unemployment.head()"
      ],
      "metadata": {
        "colab": {
          "base_uri": "https://localhost:8080/",
          "height": 206
        },
        "id": "5RKLIdPNvCP7",
        "outputId": "d850307e-ef9e-4bc7-86ea-c616f4dcebcb"
      },
      "execution_count": 4,
      "outputs": [
        {
          "output_type": "execute_result",
          "data": {
            "text/plain": [
              "  country_code          country_name      continent   2010   2011   2012  \\\n",
              "0          AFG           Afghanistan           Asia  11.35  11.05  11.34   \n",
              "1          AGO                Angola         Africa   9.43   7.36   7.35   \n",
              "2          ALB               Albania         Europe  14.09  13.48  13.38   \n",
              "3          ARE  United Arab Emirates           Asia   2.48   2.30   2.18   \n",
              "4          ARG             Argentina  South America   7.71   7.18   7.22   \n",
              "\n",
              "    2013   2014   2015   2016   2017   2018   2019   2020   2021  \n",
              "0  11.19  11.14  11.13  11.16  11.18  11.15  11.22  11.71  13.28  \n",
              "1   7.37   7.37   7.39   7.41   7.41   7.42   7.42   8.33   8.53  \n",
              "2  15.87  18.05  17.19  15.42  13.62  12.30  11.47  13.33  11.82  \n",
              "3   2.04   1.91   1.77   1.64   2.46   2.35   2.23   3.19   3.36  \n",
              "4   7.10   7.27   7.52   8.11   8.35   9.22   9.84  11.46  10.90  "
            ],
            "text/html": [
              "\n",
              "  <div id=\"df-d558c957-d7cf-4d53-b2ae-37f5b5c8eb54\">\n",
              "    <div class=\"colab-df-container\">\n",
              "      <div>\n",
              "<style scoped>\n",
              "    .dataframe tbody tr th:only-of-type {\n",
              "        vertical-align: middle;\n",
              "    }\n",
              "\n",
              "    .dataframe tbody tr th {\n",
              "        vertical-align: top;\n",
              "    }\n",
              "\n",
              "    .dataframe thead th {\n",
              "        text-align: right;\n",
              "    }\n",
              "</style>\n",
              "<table border=\"1\" class=\"dataframe\">\n",
              "  <thead>\n",
              "    <tr style=\"text-align: right;\">\n",
              "      <th></th>\n",
              "      <th>country_code</th>\n",
              "      <th>country_name</th>\n",
              "      <th>continent</th>\n",
              "      <th>2010</th>\n",
              "      <th>2011</th>\n",
              "      <th>2012</th>\n",
              "      <th>2013</th>\n",
              "      <th>2014</th>\n",
              "      <th>2015</th>\n",
              "      <th>2016</th>\n",
              "      <th>2017</th>\n",
              "      <th>2018</th>\n",
              "      <th>2019</th>\n",
              "      <th>2020</th>\n",
              "      <th>2021</th>\n",
              "    </tr>\n",
              "  </thead>\n",
              "  <tbody>\n",
              "    <tr>\n",
              "      <th>0</th>\n",
              "      <td>AFG</td>\n",
              "      <td>Afghanistan</td>\n",
              "      <td>Asia</td>\n",
              "      <td>11.35</td>\n",
              "      <td>11.05</td>\n",
              "      <td>11.34</td>\n",
              "      <td>11.19</td>\n",
              "      <td>11.14</td>\n",
              "      <td>11.13</td>\n",
              "      <td>11.16</td>\n",
              "      <td>11.18</td>\n",
              "      <td>11.15</td>\n",
              "      <td>11.22</td>\n",
              "      <td>11.71</td>\n",
              "      <td>13.28</td>\n",
              "    </tr>\n",
              "    <tr>\n",
              "      <th>1</th>\n",
              "      <td>AGO</td>\n",
              "      <td>Angola</td>\n",
              "      <td>Africa</td>\n",
              "      <td>9.43</td>\n",
              "      <td>7.36</td>\n",
              "      <td>7.35</td>\n",
              "      <td>7.37</td>\n",
              "      <td>7.37</td>\n",
              "      <td>7.39</td>\n",
              "      <td>7.41</td>\n",
              "      <td>7.41</td>\n",
              "      <td>7.42</td>\n",
              "      <td>7.42</td>\n",
              "      <td>8.33</td>\n",
              "      <td>8.53</td>\n",
              "    </tr>\n",
              "    <tr>\n",
              "      <th>2</th>\n",
              "      <td>ALB</td>\n",
              "      <td>Albania</td>\n",
              "      <td>Europe</td>\n",
              "      <td>14.09</td>\n",
              "      <td>13.48</td>\n",
              "      <td>13.38</td>\n",
              "      <td>15.87</td>\n",
              "      <td>18.05</td>\n",
              "      <td>17.19</td>\n",
              "      <td>15.42</td>\n",
              "      <td>13.62</td>\n",
              "      <td>12.30</td>\n",
              "      <td>11.47</td>\n",
              "      <td>13.33</td>\n",
              "      <td>11.82</td>\n",
              "    </tr>\n",
              "    <tr>\n",
              "      <th>3</th>\n",
              "      <td>ARE</td>\n",
              "      <td>United Arab Emirates</td>\n",
              "      <td>Asia</td>\n",
              "      <td>2.48</td>\n",
              "      <td>2.30</td>\n",
              "      <td>2.18</td>\n",
              "      <td>2.04</td>\n",
              "      <td>1.91</td>\n",
              "      <td>1.77</td>\n",
              "      <td>1.64</td>\n",
              "      <td>2.46</td>\n",
              "      <td>2.35</td>\n",
              "      <td>2.23</td>\n",
              "      <td>3.19</td>\n",
              "      <td>3.36</td>\n",
              "    </tr>\n",
              "    <tr>\n",
              "      <th>4</th>\n",
              "      <td>ARG</td>\n",
              "      <td>Argentina</td>\n",
              "      <td>South America</td>\n",
              "      <td>7.71</td>\n",
              "      <td>7.18</td>\n",
              "      <td>7.22</td>\n",
              "      <td>7.10</td>\n",
              "      <td>7.27</td>\n",
              "      <td>7.52</td>\n",
              "      <td>8.11</td>\n",
              "      <td>8.35</td>\n",
              "      <td>9.22</td>\n",
              "      <td>9.84</td>\n",
              "      <td>11.46</td>\n",
              "      <td>10.90</td>\n",
              "    </tr>\n",
              "  </tbody>\n",
              "</table>\n",
              "</div>\n",
              "      <button class=\"colab-df-convert\" onclick=\"convertToInteractive('df-d558c957-d7cf-4d53-b2ae-37f5b5c8eb54')\"\n",
              "              title=\"Convert this dataframe to an interactive table.\"\n",
              "              style=\"display:none;\">\n",
              "        \n",
              "  <svg xmlns=\"http://www.w3.org/2000/svg\" height=\"24px\"viewBox=\"0 0 24 24\"\n",
              "       width=\"24px\">\n",
              "    <path d=\"M0 0h24v24H0V0z\" fill=\"none\"/>\n",
              "    <path d=\"M18.56 5.44l.94 2.06.94-2.06 2.06-.94-2.06-.94-.94-2.06-.94 2.06-2.06.94zm-11 1L8.5 8.5l.94-2.06 2.06-.94-2.06-.94L8.5 2.5l-.94 2.06-2.06.94zm10 10l.94 2.06.94-2.06 2.06-.94-2.06-.94-.94-2.06-.94 2.06-2.06.94z\"/><path d=\"M17.41 7.96l-1.37-1.37c-.4-.4-.92-.59-1.43-.59-.52 0-1.04.2-1.43.59L10.3 9.45l-7.72 7.72c-.78.78-.78 2.05 0 2.83L4 21.41c.39.39.9.59 1.41.59.51 0 1.02-.2 1.41-.59l7.78-7.78 2.81-2.81c.8-.78.8-2.07 0-2.86zM5.41 20L4 18.59l7.72-7.72 1.47 1.35L5.41 20z\"/>\n",
              "  </svg>\n",
              "      </button>\n",
              "      \n",
              "  <style>\n",
              "    .colab-df-container {\n",
              "      display:flex;\n",
              "      flex-wrap:wrap;\n",
              "      gap: 12px;\n",
              "    }\n",
              "\n",
              "    .colab-df-convert {\n",
              "      background-color: #E8F0FE;\n",
              "      border: none;\n",
              "      border-radius: 50%;\n",
              "      cursor: pointer;\n",
              "      display: none;\n",
              "      fill: #1967D2;\n",
              "      height: 32px;\n",
              "      padding: 0 0 0 0;\n",
              "      width: 32px;\n",
              "    }\n",
              "\n",
              "    .colab-df-convert:hover {\n",
              "      background-color: #E2EBFA;\n",
              "      box-shadow: 0px 1px 2px rgba(60, 64, 67, 0.3), 0px 1px 3px 1px rgba(60, 64, 67, 0.15);\n",
              "      fill: #174EA6;\n",
              "    }\n",
              "\n",
              "    [theme=dark] .colab-df-convert {\n",
              "      background-color: #3B4455;\n",
              "      fill: #D2E3FC;\n",
              "    }\n",
              "\n",
              "    [theme=dark] .colab-df-convert:hover {\n",
              "      background-color: #434B5C;\n",
              "      box-shadow: 0px 1px 3px 1px rgba(0, 0, 0, 0.15);\n",
              "      filter: drop-shadow(0px 1px 2px rgba(0, 0, 0, 0.3));\n",
              "      fill: #FFFFFF;\n",
              "    }\n",
              "  </style>\n",
              "\n",
              "      <script>\n",
              "        const buttonEl =\n",
              "          document.querySelector('#df-d558c957-d7cf-4d53-b2ae-37f5b5c8eb54 button.colab-df-convert');\n",
              "        buttonEl.style.display =\n",
              "          google.colab.kernel.accessAllowed ? 'block' : 'none';\n",
              "\n",
              "        async function convertToInteractive(key) {\n",
              "          const element = document.querySelector('#df-d558c957-d7cf-4d53-b2ae-37f5b5c8eb54');\n",
              "          const dataTable =\n",
              "            await google.colab.kernel.invokeFunction('convertToInteractive',\n",
              "                                                     [key], {});\n",
              "          if (!dataTable) return;\n",
              "\n",
              "          const docLinkHtml = 'Like what you see? Visit the ' +\n",
              "            '<a target=\"_blank\" href=https://colab.research.google.com/notebooks/data_table.ipynb>data table notebook</a>'\n",
              "            + ' to learn more about interactive tables.';\n",
              "          element.innerHTML = '';\n",
              "          dataTable['output_type'] = 'display_data';\n",
              "          await google.colab.output.renderOutput(dataTable, element);\n",
              "          const docLink = document.createElement('div');\n",
              "          docLink.innerHTML = docLinkHtml;\n",
              "          element.appendChild(docLink);\n",
              "        }\n",
              "      </script>\n",
              "    </div>\n",
              "  </div>\n",
              "  "
            ]
          },
          "metadata": {},
          "execution_count": 4
        }
      ]
    },
    {
      "cell_type": "code",
      "source": [
        "print(unemployment.info())\n",
        "print(unemployment.describe())\n"
      ],
      "metadata": {
        "id": "hcSq2AhqvRWz"
      },
      "execution_count": null,
      "outputs": []
    },
    {
      "cell_type": "code",
      "source": [
        "# Count the values associated with each continent in unemployment\n",
        "print(unemployment['continent'].value_counts())"
      ],
      "metadata": {
        "id": "76Lkc7Rvva6R"
      },
      "execution_count": null,
      "outputs": []
    },
    {
      "cell_type": "code",
      "source": [
        "sns.histplot(data=unemployment, x='2021', binwidth=1)\n",
        "plt.show()"
      ],
      "metadata": {
        "id": "3y8t-TpvwElm"
      },
      "execution_count": null,
      "outputs": []
    },
    {
      "cell_type": "code",
      "source": [
        "# Update the data type of the 2019 column to a float\n",
        "unemployment[\"2019\"] = unemployment[\"2019\"].astype(float)\n",
        "# Print the dtypes to check your work\n",
        "print(unemployment.dtypes)"
      ],
      "metadata": {
        "id": "yey8VLPFxBew"
      },
      "execution_count": null,
      "outputs": []
    },
    {
      "cell_type": "code",
      "source": [
        "# Define a Series describing whether each continent is outside of Oceania\n",
        "not_oceania = ~unemployment[\"continent\"].isin([\"Oceania\"])\n",
        "\n",
        "# Print unemployment without records related to countries in Oceania\n",
        "print(unemployment[not_oceania])"
      ],
      "metadata": {
        "id": "26GIqKJaz6jG"
      },
      "execution_count": null,
      "outputs": []
    },
    {
      "cell_type": "code",
      "source": [
        "# Print the minimum and maximum unemployment rates during 2021\n",
        "print(unemployment['2021'].min(), unemployment['2021'].max())\n",
        "\n",
        "# Create a boxplot of 2021 unemployment rates, broken down by continent\n",
        "sns.boxplot(data=unemployment, x='2021', y='continent')\n",
        "plt.show()"
      ],
      "metadata": {
        "id": "xLvVQcEC1YmM"
      },
      "execution_count": null,
      "outputs": []
    },
    {
      "cell_type": "code",
      "source": [
        "# Print yearly mean and standard deviation grouped by continent\n",
        "print(unemployment.groupby(\"continent\").agg([\"mean\", \"std\"]))"
      ],
      "metadata": {
        "id": "TNzmgPH_2HDI"
      },
      "execution_count": null,
      "outputs": []
    },
    {
      "cell_type": "code",
      "source": [
        "continent_summary = unemployment.groupby(\"continent\").agg(\n",
        "    # Create the mean_rate_2021 column\n",
        "    mean_rate_2021 = ('2021','mean'),\n",
        "    # Create the std_rate_2021 column\n",
        "    std_rate_2021 = ('2021','std'),\n",
        ")\n",
        "print(continent_summary)"
      ],
      "metadata": {
        "colab": {
          "base_uri": "https://localhost:8080/"
        },
        "id": "BeKOWIul8fwS",
        "outputId": "53004a4a-9729-459e-af0e-4d00168a45c3"
      },
      "execution_count": 16,
      "outputs": [
        {
          "output_type": "stream",
          "name": "stdout",
          "text": [
            "               mean_rate_2021  std_rate_2021\n",
            "continent                                   \n",
            "Africa              10.473585       8.131636\n",
            "Asia                 6.906170       5.414745\n",
            "Europe               7.414872       3.947825\n",
            "North America        9.155000       5.076482\n",
            "Oceania              4.280000       2.671522\n",
            "South America        9.924167       3.611624\n"
          ]
        }
      ]
    },
    {
      "cell_type": "code",
      "source": [
        "# Create a bar plot of continents and their average unemployment\n",
        "sns.barplot(data=unemployment, x='continent', y='2021')\n",
        "plt.show()"
      ],
      "metadata": {
        "colab": {
          "base_uri": "https://localhost:8080/",
          "height": 449
        },
        "id": "TEtkizmt9Ds_",
        "outputId": "02014a99-daa9-4c7a-9067-8e9073de8569"
      },
      "execution_count": 17,
      "outputs": [
        {
          "output_type": "display_data",
          "data": {
            "text/plain": [
              "<Figure size 640x480 with 1 Axes>"
            ],
            "image/png": "[encoded data removed]"
          },
          "metadata": {}
        }
      ]
    },
    {
      "cell_type": "code",
      "source": [],
      "metadata": {
        "id": "Ru0Pn2S49eaC"
      },
      "execution_count": null,
      "outputs": []
    }
  ]
}